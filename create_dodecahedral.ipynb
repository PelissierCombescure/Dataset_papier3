{
 "cells": [
  {
   "cell_type": "code",
   "execution_count": 1,
   "metadata": {},
   "outputs": [],
   "source": [
    "import math\n",
    "import numpy as np"
   ]
  },
  {
   "cell_type": "code",
   "execution_count": 2,
   "metadata": {},
   "outputs": [],
   "source": [
    "# Function to calculate quaternion for rotation from a direction vector\n",
    "def direction_to_quaternion(direction):\n",
    "    # Calculate the quaternion that rotates +Z to point in the given direction\n",
    "    up = np.array([0, 0, 1])  # Default up vector\n",
    "    direction = direction / np.linalg.norm(direction)  # Normalize the direction\n",
    "\n",
    "    if np.allclose(direction, up):\n",
    "        return [1, 0, 0, 0]  # No rotation needed if it's already pointing up\n",
    "    if np.allclose(direction, -up):\n",
    "        return [0, 0, 1, 0]  # 180-degree rotation around the X axis\n",
    "\n",
    "    axis = np.cross(up, direction)\n",
    "    angle = np.arccos(np.dot(up, direction))\n",
    "\n",
    "    half_angle = angle / 2.0\n",
    "    axis = axis / np.linalg.norm(axis)\n",
    "\n",
    "    w = np.cos(half_angle)\n",
    "    x, y, z = np.sin(half_angle) * axis\n",
    "\n",
    "    return [w, x, y, z]"
   ]
  },
  {
   "cell_type": "code",
   "execution_count": 3,
   "metadata": {},
   "outputs": [],
   "source": [
    "# Golden ratio\n",
    "phi = (1 + np.sqrt(5)) / 2\n",
    "\n",
    "# Unit-length scaling factor to normalize the vertices\n",
    "a = 1 / np.sqrt(3)\n",
    "\n",
    "# Create the 20 unique vertex points of the dodecahedron\n",
    "vertices = np.array([\n",
    "    [ 1,  1,  1],\n",
    "    [ 1,  1, -1],\n",
    "    [ 1, -1,  1],\n",
    "    [ 1, -1, -1],\n",
    "    [-1,  1,  1],\n",
    "    [-1,  1, -1],\n",
    "    [-1, -1,  1],\n",
    "    [-1, -1, -1],\n",
    "    [ 0,  phi, 1/phi],\n",
    "    [ 0,  phi, -1/phi],\n",
    "    [ 0, -phi, 1/phi],\n",
    "    [ 0, -phi, -1/phi],\n",
    "    [ 1/phi, 0,  phi],\n",
    "    [-1/phi, 0,  phi],\n",
    "    [ 1/phi, 0, -phi],\n",
    "    [-1/phi, 0, -phi],\n",
    "    [ phi, 1/phi, 0],\n",
    "    [-phi, 1/phi, 0],\n",
    "    [ phi, -1/phi, 0],\n",
    "    [-phi, -1/phi, 0]\n",
    "])\n",
    "\n",
    "# Normalize all vertices so that they are of unit length\n",
    "vertices *= a\n",
    "\n",
    "# First vertex coordinates (x0, y0, z0)\n",
    "x0, y0, z0 = 0, 0, 0  # Change this to position the first vertex elsewhere\n",
    "\n",
    "# Shift all vertices so that the first one is at (x0, y0, z0)\n",
    "shifted_vertices = vertices - vertices[0] + np.array([x0, y0, z0])"
   ]
  },
  {
   "cell_type": "code",
   "execution_count": 6,
   "metadata": {},
   "outputs": [
    {
     "data": {
      "text/plain": [
       "array([[ 0.        ,  0.        ,  0.        ],\n",
       "       [ 0.        ,  0.        , -1.15470054],\n",
       "       [ 0.        , -1.15470054,  0.        ],\n",
       "       [ 0.        , -1.15470054, -1.15470054],\n",
       "       [-1.15470054,  0.        ,  0.        ],\n",
       "       [-1.15470054,  0.        , -1.15470054],\n",
       "       [-1.15470054, -1.15470054,  0.        ],\n",
       "       [-1.15470054, -1.15470054, -1.15470054],\n",
       "       [-0.57735027,  0.35682209, -0.22052818],\n",
       "       [-0.57735027,  0.35682209, -0.93417236],\n",
       "       [-0.57735027, -1.51152263, -0.22052818],\n",
       "       [-0.57735027, -1.51152263, -0.93417236],\n",
       "       [-0.22052818, -0.57735027,  0.35682209],\n",
       "       [-0.93417236, -0.57735027,  0.35682209],\n",
       "       [-0.22052818, -0.57735027, -1.51152263],\n",
       "       [-0.93417236, -0.57735027, -1.51152263],\n",
       "       [ 0.35682209, -0.22052818, -0.57735027],\n",
       "       [-1.51152263, -0.22052818, -0.57735027],\n",
       "       [ 0.35682209, -0.93417236, -0.57735027],\n",
       "       [-1.51152263, -0.93417236, -0.57735027]])"
      ]
     },
     "execution_count": 6,
     "metadata": {},
     "output_type": "execute_result"
    }
   ],
   "source": [
    "shifted_vertices"
   ]
  },
  {
   "cell_type": "code",
   "execution_count": 5,
   "metadata": {},
   "outputs": [
    {
     "name": "stderr",
     "output_type": "stream",
     "text": [
      "/tmp/ipykernel_60190/3967958718.py:5: RuntimeWarning: invalid value encountered in divide\n",
      "  direction = direction / np.linalg.norm(direction)  # Normalize the direction\n"
     ]
    }
   ],
   "source": [
    "import bpy\n",
    "# Delete all existing objects (optional)\n",
    "bpy.ops.object.select_all(action='DESELECT')\n",
    "bpy.ops.object.select_by_type(type='CAMERA')\n",
    "bpy.ops.object.delete()\n",
    "\n",
    "# Create cameras at each vertex\n",
    "for i, vertex in enumerate(shifted_vertices):\n",
    "    # Add a new camera object\n",
    "    bpy.ops.object.camera_add(location=(vertex[0], vertex[1], vertex[2]))\n",
    "    camera = bpy.context.object\n",
    "    camera.name = f\"Camera_{i+1}\"\n",
    "\n",
    "    # Make the camera point toward the origin\n",
    "    direction = -np.array(vertex)  # Vector pointing from camera to origin (0,0,0)\n",
    "    rot_quat = direction_to_quaternion(direction)\n",
    "    \n",
    "    camera.rotation_mode = 'QUATERNION'\n",
    "    camera.rotation_quaternion = rot_quat\n",
    "\n",
    "# Save the blend file\n",
    "blend_file_path = \"dodecahedron_cameras.blend\"  # Adjust to your desired path\n",
    "#bpy.ops.wm.save_as_mainfile(filepath=blend_file_path)"
   ]
  },
  {
   "cell_type": "code",
   "execution_count": null,
   "metadata": {},
   "outputs": [],
   "source": []
  }
 ],
 "metadata": {
  "kernelspec": {
   "display_name": "Python 3",
   "language": "python",
   "name": "python3"
  },
  "language_info": {
   "codemirror_mode": {
    "name": "ipython",
    "version": 3
   },
   "file_extension": ".py",
   "mimetype": "text/x-python",
   "name": "python",
   "nbconvert_exporter": "python",
   "pygments_lexer": "ipython3",
   "version": "3.10.15"
  }
 },
 "nbformat": 4,
 "nbformat_minor": 2
}
