{
 "cells": [
  {
   "cell_type": "code",
   "execution_count": 1,
   "metadata": {},
   "outputs": [],
   "source": [
    "import os\n",
    "import glob\n",
    "from utils import *\n",
    "\n",
    "\n",
    "def get_files_recursive(folder_path, extension):\n",
    "    # Get all .off files from the folder and its subfolders\n",
    "    files = glob.glob(os.path.join(folder_path, \"**\", \"*.\"+extension), recursive=True)\n",
    "    \n",
    "    # Filter out files that contain 'SIMPL' in their name\n",
    "    #files = [file for file in files if 'SMPL' not in os.path.basename(file)]\n",
    "    \n",
    "    return files\n",
    "\n",
    "def read_paths_from_txt(txt_file):\n",
    "    \"\"\"Reads a list of file paths from a .txt file.\"\"\"\n",
    "    with open(txt_file, 'r') as f:\n",
    "        paths = f.readlines()\n",
    "    # Strip any whitespace characters like `\\n` at the end of each line\n",
    "    paths = [path.strip() for path in paths]\n",
    "    return paths"
   ]
  },
  {
   "cell_type": "code",
   "execution_count": null,
   "metadata": {},
   "outputs": [],
   "source": [
    "files_limper = get_files_recursive('/home/pelissier/These-ATER/Papier_international3/Dataset/ModelNet40_limper/', 'obj')\n",
    "files_limper_name = [os.path.basename(file.split('_limper_saliency')[0]) for file in files_limper]\n",
    "print(len(files_limper_name))\n",
    "files_limper_name[:5]"
   ]
  },
  {
   "cell_type": "code",
   "execution_count": null,
   "metadata": {},
   "outputs": [],
   "source": [
    "files_projection = get_files_recursive('/home/pelissier/These-ATER/Papier_international3/Dataset/Rendu/ModelNet40/my_circular_12_elevation_30', 'obj')\n",
    "files_projection_name = [os.path.basename(file.split('_centered')[0]) for file in files_projection]\n",
    "print(len(files_projection_name)/12, 'fichiers traités')\n",
    "files_projection_name[:5]"
   ]
  },
  {
   "cell_type": "code",
   "execution_count": null,
   "metadata": {},
   "outputs": [],
   "source": [
    "with open(\"/home/pelissier/These-ATER/Papier_international3/Dataset/paths_projections_todo.txt\", \"w\") as file:\n",
    "    for file_limper in files_limper:\n",
    "        if os.path.basename(file_limper.split('_limper_saliency')[0]) not in files_projection_name:\n",
    "            print(file_limper)\n",
    "            #path = os.path.join('/home/pelissier/These-ATER/Papier_international3/Dataset/ModelNet40_centered_scaled', file_limper.split('/')[-3] , file_limper.split('/')[-2], os.path.basename(file_limper.split('_limper_saliency')[0])+'_centered_scaled.obj')\n",
    "            #file.write(path+\"\\n\")"
   ]
  },
  {
   "cell_type": "code",
   "execution_count": null,
   "metadata": {},
   "outputs": [],
   "source": [
    "# Specify the path to your file\n",
    "file_path = '/home/pelissier/These-ATER/Papier_international3/Dataset/error_run1_projection_remeshing.txt'\n",
    "\n",
    "# Open the file and read lines\n",
    "with open(file_path, 'r') as file:\n",
    "    lines = file.readlines()  # Reads all lines into a list\n",
    "\n",
    "to_add = []\n",
    "# Print each line\n",
    "for line in lines:\n",
    "    if line.split(':')[0] == 'pbl': \n",
    "        print(line.split(': ')[-1].strip())\n",
    "        to_add.append(line.split(': ')[-1].strip())  \n",
    "\n",
    "with open(\"/home/pelissier/These-ATER/Papier_international3/Dataset/error_run1_projection_remeshing_pbl_todo.txt\", \"w\") as file:\n",
    "    for path in to_add:\n",
    "        #file.write(path+\"\\n\")"
   ]
  },
  {
   "cell_type": "code",
   "execution_count": null,
   "metadata": {},
   "outputs": [],
   "source": [
    "to_add"
   ]
  },
  {
   "cell_type": "code",
   "execution_count": null,
   "metadata": {},
   "outputs": [],
   "source": [
    "import random\n",
    "paths_mesh = read_paths_from_txt('/home/pelissier/These-ATER/Papier_international3/Dataset/paths_files/obj_files_ModelNet40_centered_scaled_remeshing2.txt')\n",
    "random.shuffle(paths_mesh)\n",
    "\n",
    "with open(\"/home/pelissier/These-ATER/Papier_international3/Dataset/paths_files/obj_files_ModelNet40_centered_scaled_remeshing2-1000.txt\", \"w\") as file:\n",
    "    for p in paths_mesh[:1000]:\n",
    "        #file.write(p+\"\\n\")"
   ]
  },
  {
   "cell_type": "code",
   "execution_count": 2,
   "metadata": {},
   "outputs": [
    {
     "name": "stdout",
     "output_type": "stream",
     "text": [
      "742\n"
     ]
    }
   ],
   "source": [
    "path_dir = \"/home/pelissier/These-ATER/Papier_international3/Dataset/Rendu/ModelNet40/my_circular_12_elevation_30_remeshing\"\n",
    "files = glob.glob(os.path.join(path_dir, \"**\", \"*bvs*\"), recursive=True)\n",
    "print(len(files))\n",
    "\n",
    "with open(\"/home/pelissier/These-ATER/Papier_international3/Dataset/paths_files/obj_files_ModelNet40_BVS-742.txt\", \"w\") as file:\n",
    "    for p in files:\n",
    "        categorie, type = get_info_path(p)\n",
    "        name = os.path.basename(p)\n",
    "        file.write(os.path.join(categorie, type, name)+\"\\n\")\n",
    "    "
   ]
  },
  {
   "cell_type": "code",
   "execution_count": null,
   "metadata": {},
   "outputs": [],
   "source": []
  }
 ],
 "metadata": {
  "kernelspec": {
   "display_name": "blender_env",
   "language": "python",
   "name": "python3"
  },
  "language_info": {
   "codemirror_mode": {
    "name": "ipython",
    "version": 3
   },
   "file_extension": ".py",
   "mimetype": "text/x-python",
   "name": "python",
   "nbconvert_exporter": "python",
   "pygments_lexer": "ipython3",
   "version": "3.10.15"
  }
 },
 "nbformat": 4,
 "nbformat_minor": 2
}
