{
 "cells": [
  {
   "cell_type": "markdown",
   "metadata": {},
   "source": [
    "Ok avec `PoinNet0_env`"
   ]
  },
  {
   "cell_type": "code",
   "execution_count": 10,
   "metadata": {},
   "outputs": [
    {
     "name": "stdout",
     "output_type": "stream",
     "text": [
      "12311\n",
      "/home/pelissier/These-ATER/Papier_international3/Dataset/ModelNet40_centered_scaled/car/test/car_0204_SMPLER_centered_scaled_remeshing1.obj\n"
     ]
    }
   ],
   "source": [
    "import os\n",
    "import glob\n",
    "from tqdm import tqdm\n",
    "\n",
    "\n",
    "def get_files_recursive(folder_path, extension):\n",
    "    # Get all .off files from the folder and its subfolders\n",
    "    files = glob.glob(os.path.join(folder_path, \"**\", \"*.\"+extension), recursive=True)\n",
    "    \n",
    "    # Filter out files that contain 'SIMPL' in their name\n",
    "    #files = [file for file in files if 'SMPL' not in os.path.basename(file)]\n",
    "    files = [file for file in files if 'remeshing1' in os.path.basename(file)]\n",
    "    \n",
    "    return files\n",
    "\n",
    "# Usage example\n",
    "folder_path = '/home/pelissier/These-ATER/Papier_international3/Dataset/'\n",
    "dataset = \"ModelNet40_centered_scaled\"\n",
    "extension = 'obj'\n",
    "files = get_files_recursive(folder_path+dataset+\"/\",extension); print(len(files)); print(files[0])"
   ]
  },
  {
   "cell_type": "code",
   "execution_count": 11,
   "metadata": {},
   "outputs": [],
   "source": [
    "# Write the list to a text file\n",
    "dir_output = folder_path+\"paths_files/\"\n",
    "with open(dir_output+extension+\"_files_\"+dataset+\"_remeshing1.txt\", 'w') as f:\n",
    "    for path in files:\n",
    "        f.write(f\"{path}\\n\")"
   ]
  },
  {
   "cell_type": "code",
   "execution_count": null,
   "metadata": {},
   "outputs": [],
   "source": []
  }
 ],
 "metadata": {
  "kernelspec": {
   "display_name": "PoinNet0_env",
   "language": "python",
   "name": "python3"
  },
  "language_info": {
   "codemirror_mode": {
    "name": "ipython",
    "version": 3
   },
   "file_extension": ".py",
   "mimetype": "text/x-python",
   "name": "python",
   "nbconvert_exporter": "python",
   "pygments_lexer": "ipython3",
   "version": "3.7.12"
  }
 },
 "nbformat": 4,
 "nbformat_minor": 2
}
