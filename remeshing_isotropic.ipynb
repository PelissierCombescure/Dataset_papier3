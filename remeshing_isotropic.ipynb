{
 "cells": [
  {
   "cell_type": "code",
   "execution_count": 1,
   "metadata": {},
   "outputs": [],
   "source": [
    "import pymeshlab\n",
    "import tqdm\n",
    "import math\n",
    "import os\n",
    "\n",
    "from utils import *"
   ]
  },
  {
   "cell_type": "code",
   "execution_count": null,
   "metadata": {},
   "outputs": [],
   "source": [
    "MododelNet_dir = \"/home/pelissier/These-ATER/Papier_international3/Dataset/ModelNet40_centered_scaled\"\n",
    "\n",
    "paths_mesh = read_paths_from_txt('/home/pelissier/These-ATER/Papier_international3/Dataset/paths_files/obj_files_ModelNet40_centered_scaled.txt')"
   ]
  },
  {
   "cell_type": "code",
   "execution_count": null,
   "metadata": {},
   "outputs": [],
   "source": [
    "def compute_face_area_stats(mesh):\n",
    "    \"\"\"Compute mean, standard deviation, and CV of face areas.\"\"\"\n",
    "    face_areas = mesh.face_matrix() # Get the areas of all faces\n",
    "    mean_area = np.mean(face_areas)\n",
    "    std_dev = np.std(face_areas)\n",
    "    cv = std_dev / mean_area if mean_area != 0 else 0\n",
    "    return mean_area, std_dev, cv"
   ]
  },
  {
   "cell_type": "code",
   "execution_count": null,
   "metadata": {},
   "outputs": [],
   "source": [
    "max_iterations = 20  # Safety limit for iterations\n",
    "cv_threshold = 0.05  # Coefficient of variation threshold for uniformity"
   ]
  },
  {
   "cell_type": "code",
   "execution_count": null,
   "metadata": {},
   "outputs": [],
   "source": [
    "paths_mesh[:5]"
   ]
  },
  {
   "cell_type": "code",
   "execution_count": null,
   "metadata": {},
   "outputs": [],
   "source": [
    "results = []  # List to store results\n",
    "for path_mesh in tqdm.tqdm(paths_mesh):\n",
    "    try :\n",
    "        # categorie = \"radio\"\n",
    "        # type = 'train'\n",
    "        # num = '0001'\n",
    "        # path_mesh = \"/home/pelissier/These-ATER/Papier_international3/Dataset/ModelNet40_centered_scaled/\"+categorie+\"/\"+type+\"/\"+categorie+\"_\"+num+\"_SMPLER_centered_scaled.obj\"\n",
    "        # Create the directory, skip if it already exists\n",
    "        # os.makedirs('tmp/'+categorie, exist_ok=True)\n",
    "        \n",
    "        # Load the mesh\n",
    "        ms = pymeshlab.MeshSet()\n",
    "        ms.load_new_mesh(path_mesh)\n",
    "        name_mesh = os.path.basename(path_mesh)\n",
    "        \n",
    "        # # Diagonal\n",
    "        # # Compute the bounding box dimensions\n",
    "        # bbox = ms.current_mesh().bounding_box()\n",
    "        # min_point = bbox.min()\n",
    "        # max_point = bbox.max()\n",
    "\n",
    "        # # Calculate the diagonal length\n",
    "        # diagonal = math.sqrt(\n",
    "        #     (max_point[0] - min_point[0])**2 +  # X-axis difference\n",
    "        #     (max_point[1] - min_point[1])**2 +  # Y-axis difference\n",
    "        #     (max_point[2] - min_point[2])**2)    # Z-axis difference\n",
    "\n",
    "        cv_values = []  # List to store CV values\n",
    "        stop_iteration = None  # To store the iteration where CV repeats\n",
    "        \n",
    "        ## Automatic determine iteration param\n",
    "        for iter in range(3, max_iterations+1):\n",
    "            # load the mesh\n",
    "            ms.load_new_mesh(path_mesh)\n",
    "            # Apply isotropic remeshing : default param are the same in meshlab\n",
    "            ms.meshing_isotropic_explicit_remeshing(iterations=iter)\n",
    "            # Compute face area statistics\n",
    "            mean_area, std_dev, cv = compute_face_area_stats(ms.current_mesh()); #print(f\"Iteration {iter}: Mean Area = {mean_area}, Std Dev = {std_dev}, CV = {cv}, {np.round(cv,3)}\")\n",
    "            # Store CV value in the list\n",
    "            cv_values.append(np.round(cv,3))\n",
    "            # Check if the CV is below the threshold\n",
    "            if len(cv_values) >= 3 and (cv_values[-2] == cv_values[-3] == cv_values[-4]):\n",
    "                #print(f\"CV value {cv} has repeated for the first time after iteration {iter}.\")\n",
    "                stop_iteration = iter-3; #print(f\"Stop iteration: {stop_iteration}\")\n",
    "                break\n",
    "\n",
    "        # Save the remeshed result\n",
    "        #ms.save_current_mesh(os.path.join(MododelNet_dir, name_mesh+\"_remeshing_iso_iter\"+str(stop_iteration)+\".obj\"))\n",
    "        results.append((\"ok\", path_mesh))\n",
    "        \n",
    "    except Exception as e: results.append((\"pbl\", path_mesh))\n",
    "          \n",
    "# Write results to file\n",
    "with open(\"/home/pelissier/These-ATER/Papier_international3/Dataset/error_run1_remeshing_iso.txt\", \"w\") as file:\n",
    "    for name, path in results:\n",
    "        file.write(f\"{name}: {path}\\n\")\n",
    "        "
   ]
  },
  {
   "cell_type": "code",
   "execution_count": null,
   "metadata": {},
   "outputs": [],
   "source": []
  },
  {
   "cell_type": "code",
   "execution_count": null,
   "metadata": {},
   "outputs": [],
   "source": []
  }
 ],
 "metadata": {
  "kernelspec": {
   "display_name": "remeshing_iso_env",
   "language": "python",
   "name": "python3"
  },
  "language_info": {
   "codemirror_mode": {
    "name": "ipython",
    "version": 3
   },
   "file_extension": ".py",
   "mimetype": "text/x-python",
   "name": "python",
   "nbconvert_exporter": "python",
   "pygments_lexer": "ipython3",
   "version": "3.10.15"
  }
 },
 "nbformat": 4,
 "nbformat_minor": 2
}
