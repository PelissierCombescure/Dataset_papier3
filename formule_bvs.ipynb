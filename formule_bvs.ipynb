{
 "cells": [
  {
   "cell_type": "code",
   "execution_count": 1,
   "metadata": {},
   "outputs": [],
   "source": [
    "import pandas as pd\n",
    "import os\n",
    "import pickle\n",
    "import tqdm \n",
    "from utils import *"
   ]
  },
  {
   "cell_type": "code",
   "execution_count": 2,
   "metadata": {},
   "outputs": [],
   "source": [
    "paths_mesh = read_paths_from_txt('/home/pelissier/These-ATER/Papier_international3/Dataset/paths_files/obj_files_ModelNet40_limper-projection-remeshing-752.txt')\n",
    "\n",
    "dir_mesh = \"/home/pelissier/These-ATER/Papier_international3/Dataset/ModelNet40_centered_scaled\"\n",
    "dir_rendu = \"/home/pelissier/These-ATER/Papier_international3/Dataset/Rendu/ModelNet40/my_circular_12_elevation_30_remeshing\"\n",
    "dir_limper = \"/home/pelissier/These-ATER/Papier_international3/Dataset/ModelNet40_limper_remeshing\""
   ]
  },
  {
   "cell_type": "markdown",
   "metadata": {},
   "source": [
    "Pour 1 modèle 3D -- 12 pov"
   ]
  },
  {
   "cell_type": "code",
   "execution_count": 3,
   "metadata": {},
   "outputs": [
    {
     "name": "stderr",
     "output_type": "stream",
     "text": [
      " 22%|██▏       | 166/752 [00:04<00:12, 45.65it/s]/tmp/ipykernel_25611/12889981.py:14: DtypeWarning: Columns (0,1,2,3,4,5,6,7,8,9,10,11,12) have mixed types. Specify dtype option on import or set low_memory=False.\n",
      "  df_saillance_limper = pd.read_csv(os.path.join(dir_limper, path_mesh+\"_limper_saliency_voronoi.csv\"), header=None)\n",
      " 43%|████▎     | 322/752 [00:08<00:08, 49.46it/s]/tmp/ipykernel_25611/12889981.py:41: RuntimeWarning: invalid value encountered in scalar divide\n",
      "  'terme_saillance': v['saillance']/max_terme_saillance} for k, v in dict_scores.items()}\n",
      "100%|██████████| 752/752 [00:19<00:00, 39.50it/s]\n"
     ]
    }
   ],
   "source": [
    "results = []\n",
    "for path_mesh in tqdm.tqdm(paths_mesh):\n",
    "    try :\n",
    "    #if True:\n",
    "        #path_mesh = \"plant/train/plant_0053_SMPLER_centered_scaled_remeshing1\"\n",
    "        # Mesh courant\n",
    "        #path_mesh = paths_mesh[0]; \n",
    "        #print(path_mesh)\n",
    "\n",
    "        # Informations sur le mesh\n",
    "        categorie, type = get_info_path(os.path.join(dir_mesh, path_mesh)); #print(categorie, type)\n",
    "        name = os.path.basename(path_mesh); #print(name)\n",
    "        # Saillance limper associée\n",
    "        df_saillance_limper = pd.read_csv(os.path.join(dir_limper, path_mesh+\"_limper_saliency_voronoi.csv\"), header=None)\n",
    "        saillance_limper = np.array(list((map(float, df_saillance_limper[6].tolist()[1:])))); #print(df_saillance_limper[6].tolist()[0])\n",
    "        ## les valeurs des saillances sont déjà normalisées entre 0 et 1\n",
    "\n",
    "        dict_scores = {}\n",
    "\n",
    "        # Pour chaque pov\n",
    "        for k in range(1, 13): \n",
    "            # data du pov k\n",
    "            path_npz_cam_k = os.path.join(dir_rendu, path_mesh+\"_cam\"+str(k)+\"_metadata_arrays.npz\")\n",
    "            # Load the .npz file\n",
    "            data_cam_k = np.load(path_npz_cam_k)\n",
    "            # sommets visibles\n",
    "            sommets_visible = data_cam_k['vrai_idx_vert_visible']\n",
    "            # Angles : cos(alpha)\n",
    "            angles_visible = data_cam_k['arr_cos_vert'][np.where(data_cam_k['arr_cos_vert']>0)[0]]\n",
    "            # Somme [limper*angle]\n",
    "            saillance_limper_visible = saillance_limper[sommets_visible]\n",
    "            terme_somme = np.sum(saillance_limper_visible*angles_visible)\n",
    "            # Surface 3D + 'normalisation' : on divise par la surface 3D totale de l'objet\n",
    "            terme_surface3d = data_cam_k['surface3D_visible']/data_cam_k['surface3D']\n",
    "            # Sauvegardes des termes\n",
    "            dict_scores['cam_'+str(k)] = {'terme_surface3d': terme_surface3d, 'saillance': terme_somme}\n",
    "\n",
    "        # Normalisation du terme de saillance pour les 12 povs\n",
    "        max_terme_saillance = np.max([dict_scores['cam_'+str(k)]['saillance'] for k in range(1, 13)])#; print(max_terme_saillance)\n",
    "        dict_scores = {k: {'terme_surface3d': v['terme_surface3d'], 'saillance': v['saillance'], \n",
    "                            'terme_saillance': v['saillance']/max_terme_saillance} for k, v in dict_scores.items()}\n",
    "\n",
    "        # Scores = (surface3D + saillance) pour les 12 povs\n",
    "        for k, v in dict_scores.items():\n",
    "            dict_scores[k]['score'] =  v['terme_surface3d'] + v['terme_saillance']\n",
    "\n",
    "        # BVS \n",
    "        score_max = np.max([dict_scores[k]['score'] for k in dict_scores.keys()])\n",
    "        dict_scores['bvs'] = [k for k in dict_scores.keys() if dict_scores[k]['score'] == score_max][0]\n",
    "        # si plusieurs \n",
    "        if len([k for k in dict_scores.keys() if (('cam' in k) and (dict_scores[k]['score'] == score_max))]) > 1: print(\"Plusieurs pov\", path_mesh)\n",
    "\n",
    "        metadata = {\n",
    "            \"path_mesh\": path_mesh, \"categorie\": categorie, \"type\": type, \"name\": name,\n",
    "            \"bvs\" : dict_scores['bvs'], \"score_max\": score_max, \"scores\": dict_scores}\n",
    "\n",
    "        with open(os.path.join(dir_rendu, path_mesh+\"_bvs_bis.pkl\"), \"wb\") as f: pickle.dump(metadata, f)\n",
    "        \n",
    "        # Ajout du résultat\n",
    "        results.append((\"ok\", path_mesh))\n",
    "    except:\n",
    "        results.append((\"pbl\", path_mesh))\n",
    "        \n",
    "\n",
    "# Write results to file\n",
    "with open(\"/home/pelissier/These-ATER/Papier_international3/Dataset/error_run2_bvs.txt\", \"w\") as file:\n",
    "    for name, path in results:\n",
    "        file.write(f\"{name}: {path}\\n\")"
   ]
  },
  {
   "cell_type": "code",
   "execution_count": 5,
   "metadata": {},
   "outputs": [
    {
     "data": {
      "text/plain": [
       "{'cam_1': {'terme_surface3d': np.float64(0.9954244181871753),\n",
       "  'saillance': np.float64(203.9280548290035),\n",
       "  'terme_saillance': np.float64(0.7326477532795816),\n",
       "  'score': np.float64(1.7280721714667568)},\n",
       " 'cam_2': {'terme_surface3d': np.float64(0.9956931504084112),\n",
       "  'saillance': np.float64(218.4892567048227),\n",
       "  'terme_saillance': np.float64(0.7849614569939374),\n",
       "  'score': np.float64(1.7806546074023486)},\n",
       " 'cam_3': {'terme_surface3d': np.float64(0.9961980562167521),\n",
       "  'saillance': np.float64(243.55440683573798),\n",
       "  'terme_saillance': np.float64(0.8750124602481434),\n",
       "  'score': np.float64(1.8712105164648953)},\n",
       " 'cam_4': {'terme_surface3d': np.float64(0.9956558032490471),\n",
       "  'saillance': np.float64(220.04059763723424),\n",
       "  'terme_saillance': np.float64(0.790534924801763),\n",
       "  'score': np.float64(1.7861907280508103)},\n",
       " 'cam_5': {'terme_surface3d': np.float64(0.9959357368841939),\n",
       "  'saillance': np.float64(226.26606149686825),\n",
       "  'terme_saillance': np.float64(0.8129010093197006),\n",
       "  'score': np.float64(1.8088367462038946)},\n",
       " 'cam_6': {'terme_surface3d': np.float64(0.9960467432846901),\n",
       "  'saillance': np.float64(249.5475120312448),\n",
       "  'terme_saillance': np.float64(0.8965437549998048),\n",
       "  'score': np.float64(1.8925904982844948)},\n",
       " 'cam_7': {'terme_surface3d': np.float64(0.9962521936076615),\n",
       "  'saillance': np.float64(278.3439298300607),\n",
       "  'terme_saillance': np.float64(1.0),\n",
       "  'score': np.float64(1.9962521936076616)},\n",
       " 'cam_8': {'terme_surface3d': np.float64(0.9964117219602608),\n",
       "  'saillance': np.float64(277.50456347492326),\n",
       "  'terme_saillance': np.float64(0.9969844273031214),\n",
       "  'score': np.float64(1.9933961492633823)},\n",
       " 'cam_9': {'terme_surface3d': np.float64(0.9962040519503236),\n",
       "  'saillance': np.float64(257.84444390479115),\n",
       "  'terme_saillance': np.float64(0.9263519562370724),\n",
       "  'score': np.float64(1.922556008187396)},\n",
       " 'cam_10': {'terme_surface3d': np.float64(0.9956601578755658),\n",
       "  'saillance': np.float64(211.73029603227826),\n",
       "  'terme_saillance': np.float64(0.7606786904300283),\n",
       "  'score': np.float64(1.7563388483055942)},\n",
       " 'cam_11': {'terme_surface3d': np.float64(0.9955515925203651),\n",
       "  'saillance': np.float64(187.33576704996915),\n",
       "  'terme_saillance': np.float64(0.6730370127501778),\n",
       "  'score': np.float64(1.6685886052705428)},\n",
       " 'cam_12': {'terme_surface3d': np.float64(0.9954792578146694),\n",
       "  'saillance': np.float64(181.6671509968182),\n",
       "  'terme_saillance': np.float64(0.6526715028696072),\n",
       "  'score': np.float64(1.6481507606842767)},\n",
       " 'bvs': 'cam_7'}"
      ]
     },
     "execution_count": 5,
     "metadata": {},
     "output_type": "execute_result"
    }
   ],
   "source": [
    "dict_scores"
   ]
  },
  {
   "cell_type": "markdown",
   "metadata": {},
   "source": [
    "Les erreurs peuvent venir des saillances qui sont a NAN ..."
   ]
  }
 ],
 "metadata": {
  "kernelspec": {
   "display_name": "blender_env",
   "language": "python",
   "name": "python3"
  },
  "language_info": {
   "codemirror_mode": {
    "name": "ipython",
    "version": 3
   },
   "file_extension": ".py",
   "mimetype": "text/x-python",
   "name": "python",
   "nbconvert_exporter": "python",
   "pygments_lexer": "ipython3",
   "version": "3.10.15"
  }
 },
 "nbformat": 4,
 "nbformat_minor": 2
}
